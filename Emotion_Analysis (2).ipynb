{
 "cells": [
  {
   "cell_type": "code",
   "execution_count": 7,
   "metadata": {},
   "outputs": [],
   "source": [
    "import pandas as pd\n",
    "import nltk\n",
    "from nltk.corpus import stopwords\n",
    "from sklearn.feature_extraction.text import TfidfVectorizer\n",
    "from sklearn.model_selection import train_test_split\n",
    "from sklearn import naive_bayes\n",
    "from sklearn.metrics import roc_auc_score\n",
    "from sklearn import preprocessing\n",
    "from sklearn import metrics\n",
    "from sklearn.metrics import confusion_matrix \n",
    "from sklearn.metrics import accuracy_score \n",
    "from sklearn.metrics import classification_report\n",
    "import emoji \n",
    "import regex\n",
    "from sklearn.linear_model import SGDClassifier\n",
    "from sklearn import model_selection\n",
    "from sklearn.ensemble import VotingClassifier\n",
    "import numpy as np\n",
    "import re\n",
    "import inflect \n",
    "import string\n",
    "from textblob import TextBlob\n",
    "import matplotlib.pyplot as plt\n",
    "%matplotlib inline"
   ]
  },
  {
   "cell_type": "code",
   "execution_count": 21,
   "metadata": {},
   "outputs": [
    {
     "name": "stdout",
     "output_type": "stream",
     "text": [
      "Shape: (7516, 3)\n"
     ]
    }
   ],
   "source": [
    "#Reading data form the .csv file\n",
    "df = pd.read_csv('ISEAR.csv')\n",
    "  \n",
    "# shape of dataset \n",
    "print(\"Shape:\", df.shape)\n",
    "\n",
    "#df = df.drop('id', axis=1)\n",
    "#df = df.drop('No', axis=1)\n",
    "\n",
    "# column names \n",
    "#print(\"\\nFeatures:\", df.columns) "
   ]
  },
  {
   "cell_type": "code",
   "execution_count": 22,
   "metadata": {},
   "outputs": [
    {
     "name": "stdout",
     "output_type": "stream",
     "text": [
      "8.0\n",
      "6.0\n"
     ]
    }
   ],
   "source": [
    "#for graph rep.\n",
    "plot_size = plt.rcParams[\"figure.figsize\"] \n",
    "print(plot_size[0]) \n",
    "print(plot_size[1])\n",
    "\n",
    "plot_size[0] = 8\n",
    "plot_size[1] = 6\n",
    "plt.rcParams[\"figure.figsize\"] = plot_size"
   ]
  },
  {
   "cell_type": "code",
   "execution_count": 23,
   "metadata": {
    "scrolled": true
   },
   "outputs": [
    {
     "data": {
      "text/plain": [
       "<matplotlib.axes._subplots.AxesSubplot at 0x1aa16367940>"
      ]
     },
     "execution_count": 23,
     "metadata": {},
     "output_type": "execute_result"
    },
    {
     "data": {
      "image/png": "[encoded data removed]",
      "text/plain": [
       "<Figure size 576x432 with 1 Axes>"
      ]
     },
     "metadata": {},
     "output_type": "display_data"
    }
   ],
   "source": [
    "#Graph showing the consistency in the dataset\n",
    "df.Emotion.value_counts().plot(kind='pie', autopct='%1.0f%%')"
   ]
  },
  {
   "cell_type": "code",
   "execution_count": 24,
   "metadata": {},
   "outputs": [],
   "source": [
    "#Preprocessing Part.\n",
    "\n",
    "# Making all letters lowercase\n",
    "df['Comment']=df['Comment'].str.lower()"
   ]
  },
  {
   "cell_type": "code",
   "execution_count": 25,
   "metadata": {},
   "outputs": [],
   "source": [
    "# convert number into words \n",
    "p = inflect.engine() \n",
    "\n",
    "def convert_number(text): \n",
    "    # split string into list of words \n",
    "    temp_str = text.split() \n",
    "    # initialise empty list \n",
    "    new_string = [] \n",
    "  \n",
    "    for word in temp_str: \n",
    "        # if word is a digit, convert the digit \n",
    "        # to numbers and append into the new_string list \n",
    "        if word.isdigit(): \n",
    "            temp = p.number_to_words(word) \n",
    "            new_string.append(temp) \n",
    "  \n",
    "        # append the word as it is \n",
    "        else: \n",
    "            new_string.append(word) \n",
    "  \n",
    "    # join the words of new_string to form a string \n",
    "    temp_str = ' '.join(new_string) \n",
    "    return temp_str\n",
    "\n",
    "df['Comment']=df['Comment'].apply(lambda x:convert_number(x))"
   ]
  },
  {
   "cell_type": "code",
   "execution_count": 26,
   "metadata": {},
   "outputs": [],
   "source": [
    "# Remove numbers \n",
    "def remove_numbers(text): \n",
    "    result = re.sub(r'\\d+', '', text) \n",
    "    return result \n",
    "df['Comment']=df['Comment'].apply(lambda x:remove_numbers(x))\n",
    "\n",
    "# remove punctuation \n",
    "def remove_punctuation(text): \n",
    "    translator = str.maketrans('', '', string.punctuation) \n",
    "    return text.translate(translator) \n",
    "df['Comment']=df['Comment'].apply(lambda x:remove_punctuation(x))\n",
    "\n",
    "# remove whitespace from text \n",
    "def remove_whitespace(text): \n",
    "    return  \" \".join(text.split()) \n",
    "df['Comment']=df['Comment'].apply(lambda x:remove_whitespace(x))"
   ]
  },
  {
   "cell_type": "code",
   "execution_count": 27,
   "metadata": {},
   "outputs": [
    {
     "data": {
      "text/plain": [
       "i       10815\n",
       "the      6120\n",
       "a        6086\n",
       "to       4756\n",
       "my       4743\n",
       "and      4649\n",
       "was      4559\n",
       "when     3679\n",
       "of       3023\n",
       "in       2794\n",
       "dtype: int64"
      ]
     },
     "execution_count": 27,
     "metadata": {},
     "output_type": "execute_result"
    }
   ],
   "source": [
    "#Removing the common words from the dataset.\n",
    "freq = pd.Series(' '.join(df['Comment']).split()).value_counts()[:10]\n",
    "freq"
   ]
  },
  {
   "cell_type": "code",
   "execution_count": 28,
   "metadata": {},
   "outputs": [
    {
     "data": {
      "text/plain": [
       "0    on days feel close partner other friends feel ...\n",
       "1    every time imagine that someone love or could ...\n",
       "2    had been obviously unjustly treated had no pos...\n",
       "3    think about short time that we live relate it ...\n",
       "4    at gathering found myself involuntarily sittin...\n",
       "Name: Comment, dtype: object"
      ]
     },
     "execution_count": 28,
     "metadata": {},
     "output_type": "execute_result"
    }
   ],
   "source": [
    "freq = list(freq.index)\n",
    "df['Comment'] = df['Comment'].apply(lambda x: \" \".join(x for x in x.split() if x not in freq))\n",
    "df['Comment'].head()"
   ]
  },
  {
   "cell_type": "code",
   "execution_count": 29,
   "metadata": {},
   "outputs": [
    {
     "data": {
      "text/plain": [
       "detriment     1\n",
       "stationed     1\n",
       "unkind        1\n",
       "inspite       1\n",
       "competent     1\n",
       "guard         1\n",
       "premature     1\n",
       "colleage      1\n",
       "videotapes    1\n",
       "sororoty      1\n",
       "dtype: int64"
      ]
     },
     "execution_count": 29,
     "metadata": {},
     "output_type": "execute_result"
    }
   ],
   "source": [
    "#Removing the un-common words from the dataset.\n",
    "freq = pd.Series(' '.join(df['Comment']).split()).value_counts()[-10:]\n",
    "freq"
   ]
  },
  {
   "cell_type": "code",
   "execution_count": 30,
   "metadata": {
    "scrolled": true
   },
   "outputs": [
    {
     "data": {
      "text/plain": [
       "0    on days feel close partner other friends feel ...\n",
       "1    every time imagine that someone love or could ...\n",
       "2    had been obviously unjustly treated had no pos...\n",
       "3    think about short time that we live relate it ...\n",
       "4    at gathering found myself involuntarily sittin...\n",
       "Name: Comment, dtype: object"
      ]
     },
     "execution_count": 30,
     "metadata": {},
     "output_type": "execute_result"
    }
   ],
   "source": [
    "freq = list(freq.index)\n",
    "df['Comment'] = df['Comment'].apply(lambda x: \" \".join(x for x in x.split() if x not in freq))\n",
    "df['Comment'].head()"
   ]
  },
  {
   "cell_type": "code",
   "execution_count": 31,
   "metadata": {},
   "outputs": [
    {
     "data": {
      "text/plain": [
       "0    on days feel close partner other friends feel ...\n",
       "1    every time imagine that someone love or could ...\n",
       "2    had been obviously unjustly treated had no pos...\n",
       "3    think about short time that we live relate it ...\n",
       "4    at gathering found myself involuntarily sittin...\n",
       "Name: Comment, dtype: object"
      ]
     },
     "execution_count": 31,
     "metadata": {},
     "output_type": "execute_result"
    }
   ],
   "source": [
    "#Correcting the words.\n",
    "df['Comment'][:5].apply(lambda x: str(TextBlob(x).correct()))"
   ]
  },
  {
   "cell_type": "code",
   "execution_count": 33,
   "metadata": {},
   "outputs": [],
   "source": [
    "#Collecting the stopwords.\n",
    "#stop = set(stopwords.words('english'))\n",
    "\n",
    "#Convert a collection of raw documents to a matrix of TF-IDF features.\n",
    "vectorizer= TfidfVectorizer(use_idf=True,lowercase=True,strip_accents=\"ascii\")"
   ]
  },
  {
   "cell_type": "code",
   "execution_count": 34,
   "metadata": {},
   "outputs": [],
   "source": [
    "#Encoding output labels as follow:\n",
    "lbl_enc = preprocessing.LabelEncoder()\n",
    "y = lbl_enc.fit_transform(df.Emotion.values)"
   ]
  },
  {
   "cell_type": "code",
   "execution_count": 35,
   "metadata": {},
   "outputs": [
    {
     "data": {
      "text/plain": [
       "array(['joy', 'fear', 'anger', ..., 'fear', 'guilt', 'fear'], dtype=object)"
      ]
     },
     "execution_count": 35,
     "metadata": {},
     "output_type": "execute_result"
    }
   ],
   "source": [
    "#Inversing the original value of the labels.\n",
    "y=lbl_enc.inverse_transform(y)\n",
    "y"
   ]
  },
  {
   "cell_type": "code",
   "execution_count": 36,
   "metadata": {},
   "outputs": [],
   "source": [
    "#Training vectors.\n",
    "y=df.Emotion"
   ]
  },
  {
   "cell_type": "code",
   "execution_count": 37,
   "metadata": {},
   "outputs": [],
   "source": [
    "#Target values.\n",
    "x=vectorizer.fit_transform(df.Comment)"
   ]
  },
  {
   "cell_type": "code",
   "execution_count": 38,
   "metadata": {
    "scrolled": true
   },
   "outputs": [
    {
     "name": "stdout",
     "output_type": "stream",
     "text": [
      "(7516,)\n",
      "(7516, 9174)\n"
     ]
    }
   ],
   "source": [
    "#shape of each training and target value.\n",
    "print(y.shape)\n",
    "print(x.shape)"
   ]
  },
  {
   "cell_type": "code",
   "execution_count": 39,
   "metadata": {},
   "outputs": [],
   "source": [
    "# Splitting into training and testing data.\n",
    "X_train, X_test, y_train, y_test = train_test_split(x,y,random_state=42,test_size=0.1)"
   ]
  },
  {
   "cell_type": "code",
   "execution_count": 40,
   "metadata": {},
   "outputs": [
    {
     "data": {
      "text/plain": [
       "MultinomialNB(alpha=1.0, class_prior=None, fit_prior=True)"
      ]
     },
     "execution_count": 40,
     "metadata": {},
     "output_type": "execute_result"
    }
   ],
   "source": [
    "#Training the model using Multinomial naive bayes algorithm.\n",
    "clf=naive_bayes.MultinomialNB()\n",
    "clf.fit(X_train,y_train)"
   ]
  },
  {
   "cell_type": "code",
   "execution_count": 42,
   "metadata": {
    "scrolled": false
   },
   "outputs": [
    {
     "name": "stdout",
     "output_type": "stream",
     "text": [
      "Enter the line for prediction.\n",
      "today is bad day\n",
      "The Emotion of the line is:\n",
      "['sadness']\n"
     ]
    }
   ],
   "source": [
    "#Predicting the emotion of the text using our already trained model\n",
    "emoji_present=0\n",
    "print(\"Enter the line for prediction.\")\n",
    "pred_input=input()\n",
    "#\"I am very happy today! The atmosphere looks cheerful\"\n",
    "m=list([pred_input])\n",
    "\n",
    "#pre-processing part of the input taken.\n",
    "m_v=vectorizer.transform(m)\n",
    "\n",
    "#putting the input into model already trained.\n",
    "new_value=clf.predict(m_v)\n",
    "\n",
    "print(\"The Emotion of the line is:\")\n",
    "print(clf.predict(m_v))"
   ]
  },
  {
   "cell_type": "code",
   "execution_count": 43,
   "metadata": {},
   "outputs": [],
   "source": [
    "# making predictions on the testing set\n",
    "y_pred = clf.predict(X_test) "
   ]
  },
  {
   "cell_type": "code",
   "execution_count": 44,
   "metadata": {
    "scrolled": true
   },
   "outputs": [
    {
     "name": "stdout",
     "output_type": "stream",
     "text": [
      "Naive Bayes model accuracy(in %): 54.25531914893617\n",
      "Confusion Matrix :\n",
      "[[46 10  9 19  7  9 12]\n",
      " [22 48  9  9  4  5  9]\n",
      " [ 4  1 66  7  8  6  4]\n",
      " [13  1 12 54  7 11  8]\n",
      " [ 3  0  2  5 88 12  4]\n",
      " [ 6  3  7 11  6 64  3]\n",
      " [20 10 12 20 10  4 42]]\n",
      "Accuracy Score : 0.5425531914893617\n",
      "Report : \n",
      "              precision    recall  f1-score   support\n",
      "\n",
      "       anger       0.40      0.41      0.41       112\n",
      "     disgust       0.66      0.45      0.54       106\n",
      "        fear       0.56      0.69      0.62        96\n",
      "       guilt       0.43      0.51      0.47       106\n",
      "         joy       0.68      0.77      0.72       114\n",
      "     sadness       0.58      0.64      0.61       100\n",
      "       shame       0.51      0.36      0.42       118\n",
      "\n",
      "   micro avg       0.54      0.54      0.54       752\n",
      "   macro avg       0.55      0.55      0.54       752\n",
      "weighted avg       0.55      0.54      0.54       752\n",
      "\n"
     ]
    }
   ],
   "source": [
    "# comparing actual response values (y_test) with predicted response values (y_pred) \n",
    "print(\"Naive Bayes model accuracy(in %):\", metrics.accuracy_score(y_test, y_pred)*100)\n",
    "results = confusion_matrix(y_test, y_pred) \n",
    "  \n",
    "print('Confusion Matrix :')\n",
    "print(results) \n",
    "print('Accuracy Score :',accuracy_score(y_test, y_pred)) \n",
    "print('Report : ')\n",
    "print(classification_report(y_test, y_pred)) "
   ]
  },
  {
   "cell_type": "code",
   "execution_count": 45,
   "metadata": {},
   "outputs": [],
   "source": [
    "#for emoji part.\n",
    "\n",
    "def split_count(text):\n",
    "    emoji_list = []\n",
    "    data = regex.findall(r'\\X', text)\n",
    "    for word in data:\n",
    "        if any(char in emoji.UNICODE_EMOJI for char in word):\n",
    "            emoji_list.append(word)\n",
    "    return emoji_list\n",
    "\n",
    "#line = [\"😀 🤔  Hello how are you?\"]\n",
    "\n",
    "counter = split_count(m[0])\n",
    "if len(counter)>0:\n",
    "    emoji_present=1\n",
    "#print(' '.join(emoji for emoji in counter))\n",
    "new_value1=[]\n",
    "for x in counter:\n",
    "    if(x==\"😀\" or x==\"😁\" or x==\"😂\" or x==\"🤣\" or x==\"😃\" or x==\"😄\" or x==\"😅\" or x==\"😆\"):\n",
    "        new_value1=\"joy\"\n",
    "    if(x==\"😬\" or x==\"😠\" or x==\"😐\" or x==\"😑\" or x==\"😡\" or x==\"😣\" or x==\"😤\" or x==\"😾\" or x==\"🤬\"):\n",
    "        new_value1=\"anger\"\n",
    "    if(x==\"💩\"):\n",
    "        new_value1=\"disgust\"\n",
    "    if(x==\"😮\" or x==\"🥶\" or x==\"🥵\" or x==\"😱\" or x==\"😰\" or x==\"😨\" or x==\"😧\" or x==\"😦\" or x==\"😲\"):\n",
    "        new_value1=\"fear\"\n",
    "    if(x==\"😕\" or x==\"😔\" or x==\"😢\" or x==\"😭\" or x==\"😫\" or x==\"😨\" or x==\"🥺\" or x==\"🤒\" or x==\"😪\"):\n",
    "        new_value1=\"sad\"\n",
    "    if(x==\"🤗\" or x==\"🤩\" or x==\"🤪\" or x==\"😲\"):\n",
    "        new_value1=\"surprise\"   "
   ]
  },
  {
   "cell_type": "code",
   "execution_count": 46,
   "metadata": {},
   "outputs": [
    {
     "name": "stdout",
     "output_type": "stream",
     "text": [
      "Emoji is present in the statement.\n",
      "Hence the Emotion of the statement can be as below:\n",
      "\n"
     ]
    }
   ],
   "source": [
    "#print the emoji is present.\n",
    "print(\"Emoji is present in the statement.\\nHence the Emotion of the statement can be as below:\\n\")\n",
    "if (emoji_present==1):\n",
    "    if(new_value[0]==new_value1):\n",
    "        print(new_value)\n",
    "    else:\n",
    "        print(\"Emotion of the emoji is different from the emotion of the statement.\")\n",
    "        print(\"Emotion of statement:\",new_value[0],\"\\nEmotion of the emoji:\",new_value1)\n",
    "        print(\"This can be a sarcastic comment\")"
   ]
  },
  {
   "cell_type": "code",
   "execution_count": 47,
   "metadata": {},
   "outputs": [],
   "source": [
    "import matplotlib.pyplot as plt\n",
    "import seaborn as sns\n",
    "from matplotlib import gridspec"
   ]
  },
  {
   "cell_type": "code",
   "execution_count": 50,
   "metadata": {},
   "outputs": [
    {
     "data": {
      "image/png": "[encoded data removed]",
      "text/plain": [
       "<Figure size 576x432 with 2 Axes>"
      ]
     },
     "metadata": {
      "needs_background": "light"
     },
     "output_type": "display_data"
    }
   ],
   "source": [
    "LABELS = [\"Anger\",\"sadness\",\"guilt\",\"suprise\",\"thankful\",\"joy\",\"fear\",\"disgust\",\"love\"]\n",
    "conf_matrix = confusion_matrix(y_test, y_pred)\n",
    "plt.figure(figsize =(8,6))\n",
    "sns.heatmap(conf_matrix,xticklabels=LABELS,yticklabels=LABELS,annot=True, fmt='d');\n",
    "plt.title(\"Confusion matrix\")\n",
    "plt.ylabel('True class')\n",
    "plt.xlabel('Predicted class')\n",
    "plt.show()"
   ]
  },
  {
   "cell_type": "code",
   "execution_count": 51,
   "metadata": {},
   "outputs": [
    {
     "data": {
      "image/png": "[encoded data removed]",
      "text/plain": [
       "<Figure size 576x432 with 2 Axes>"
      ]
     },
     "metadata": {
      "needs_background": "light"
     },
     "output_type": "display_data"
    }
   ],
   "source": [
    "LABELS = [\"Anger\",\"sadness\",\"guilt\",\"suprise\",\"thankful\",\"joy\",\"fear\",\"disgust\",\"love\"]\n",
    "conf_matrix = confusion_matrix(y_test, y_pred)\n",
    "plt.figure(figsize =(8,6))\n",
    "sns.heatmap(conf_matrix,xticklabels=LABELS,yticklabels=LABELS,annot=True,fmt = \"d\");\n",
    "plt.title(\"Confusion matrix\")\n",
    "plt.ylabel('True class')\n",
    "plt.xlabel('Predicted class')\n",
    "plt.show()"
   ]
  }
 ],
 "metadata": {
  "kernelspec": {
   "display_name": "Python 3",
   "language": "python",
   "name": "python3"
  },
  "language_info": {
   "codemirror_mode": {
    "name": "ipython",
    "version": 3
   },
   "file_extension": ".py",
   "mimetype": "text/x-python",
   "name": "python",
   "nbconvert_exporter": "python",
   "pygments_lexer": "ipython3",
   "version": "3.7.1"
  }
 },
 "nbformat": 4,
 "nbformat_minor": 2
}
